{
 "cells": [
  {
   "cell_type": "markdown",
   "metadata": {},
   "source": [
    "## License \n",
    "\n",
    "Copyright 2017 Patrick Hall (phall@h2o.ai) and the H2O.ai team\n",
    "\n",
    "Licensed under the Apache License, Version 2.0 (the \"License\");\n",
    "you may not use this file except in compliance with the License.\n",
    "You may obtain a copy of the License at\n",
    "\n",
    "    http://www.apache.org/licenses/LICENSE-2.0\n",
    "\n",
    "Unless required by applicable law or agreed to in writing, software\n",
    "distributed under the License is distributed on an \"AS IS\" BASIS,\n",
    "WITHOUT WARRANTIES OR CONDITIONS OF ANY KIND, either express or implied.\n",
    "See the License for the specific language governing permissions and\n",
    "limitations under the License."
   ]
  },
  {
   "cell_type": "markdown",
   "metadata": {},
   "source": [
    "#### Python imports "
   ]
  },
  {
   "cell_type": "code",
   "execution_count": 1,
   "metadata": {
    "collapsed": false
   },
   "outputs": [
    {
     "name": "stdout",
     "output_type": "stream",
     "text": [
      "Checking whether there is an H2O instance running at http://localhost:54321..... not found.\n",
      "Attempting to start a local H2O server...\n",
      "  Java Version: java version \"1.8.0_112\"; Java(TM) SE Runtime Environment (build 1.8.0_112-b16); Java HotSpot(TM) 64-Bit Server VM (build 25.112-b16, mixed mode)\n",
      "  Starting server from /Users/phall/anaconda/lib/python3.5/site-packages/h2o/backend/bin/h2o.jar\n",
      "  Ice root: /var/folders/tc/0ss1l73113j3wdyjsxmy1j2r0000gn/T/tmpars6k5qk\n",
      "  JVM stdout: /var/folders/tc/0ss1l73113j3wdyjsxmy1j2r0000gn/T/tmpars6k5qk/h2o_phall_started_from_python.out\n",
      "  JVM stderr: /var/folders/tc/0ss1l73113j3wdyjsxmy1j2r0000gn/T/tmpars6k5qk/h2o_phall_started_from_python.err\n",
      "  Server is running at http://127.0.0.1:54321\n",
      "Connecting to H2O server at http://127.0.0.1:54321... successful.\n"
     ]
    },
    {
     "data": {
      "text/html": [
       "<div style=\"overflow:auto\"><table style=\"width:50%\"><tr><td>H2O cluster uptime:</td>\n",
       "<td>01 secs</td></tr>\n",
       "<tr><td>H2O cluster version:</td>\n",
       "<td>3.16.0.4</td></tr>\n",
       "<tr><td>H2O cluster version age:</td>\n",
       "<td>2 months and 19 days </td></tr>\n",
       "<tr><td>H2O cluster name:</td>\n",
       "<td>H2O_from_python_phall_wx3pdu</td></tr>\n",
       "<tr><td>H2O cluster total nodes:</td>\n",
       "<td>1</td></tr>\n",
       "<tr><td>H2O cluster free memory:</td>\n",
       "<td>3.556 Gb</td></tr>\n",
       "<tr><td>H2O cluster total cores:</td>\n",
       "<td>8</td></tr>\n",
       "<tr><td>H2O cluster allowed cores:</td>\n",
       "<td>8</td></tr>\n",
       "<tr><td>H2O cluster status:</td>\n",
       "<td>accepting new members, healthy</td></tr>\n",
       "<tr><td>H2O connection url:</td>\n",
       "<td>http://127.0.0.1:54321</td></tr>\n",
       "<tr><td>H2O connection proxy:</td>\n",
       "<td>None</td></tr>\n",
       "<tr><td>H2O internal security:</td>\n",
       "<td>False</td></tr>\n",
       "<tr><td>H2O API Extensions:</td>\n",
       "<td>XGBoost, Algos, AutoML, Core V3, Core V4</td></tr>\n",
       "<tr><td>Python version:</td>\n",
       "<td>3.5.2 final</td></tr></table></div>"
      ],
      "text/plain": [
       "--------------------------  ----------------------------------------\n",
       "H2O cluster uptime:         01 secs\n",
       "H2O cluster version:        3.16.0.4\n",
       "H2O cluster version age:    2 months and 19 days\n",
       "H2O cluster name:           H2O_from_python_phall_wx3pdu\n",
       "H2O cluster total nodes:    1\n",
       "H2O cluster free memory:    3.556 Gb\n",
       "H2O cluster total cores:    8\n",
       "H2O cluster allowed cores:  8\n",
       "H2O cluster status:         accepting new members, healthy\n",
       "H2O connection url:         http://127.0.0.1:54321\n",
       "H2O connection proxy:\n",
       "H2O internal security:      False\n",
       "H2O API Extensions:         XGBoost, Algos, AutoML, Core V3, Core V4\n",
       "Python version:             3.5.2 final\n",
       "--------------------------  ----------------------------------------"
      ]
     },
     "metadata": {},
     "output_type": "display_data"
    }
   ],
   "source": [
    "import numpy as np                   # array, vector, matrix calculations\n",
    "import pandas as pd                  # DataFrame handling\n",
    "import xgboost as xgb                # gradient boosting machines (GBMs)\n",
    "\n",
    "import matplotlib.pyplot as plt      # plotting\n",
    "pd.options.display.max_columns = 999 # enable display of all columns in notebook\n",
    "\n",
    "# h2o\n",
    "import h2o\n",
    "h2o.init()\n",
    "\n",
    "# this LIME package\n",
    "from lime_xgboost import * \n",
    "\n",
    "# enables display of plots in notebook\n",
    "%matplotlib inline              "
   ]
  },
  {
   "cell_type": "markdown",
   "metadata": {},
   "source": [
    "#### Import data and clean"
   ]
  },
  {
   "cell_type": "code",
   "execution_count": 2,
   "metadata": {
    "collapsed": false
   },
   "outputs": [],
   "source": [
    "# import XLS file\n",
    "path = '../data/default_of_credit_card_clients.xls'\n",
    "data = pd.read_excel(path,\n",
    "                     skiprows=1) # skip the first row of the spreadsheet\n",
    "\n",
    "# remove spaces from target column name \n",
    "data = data.rename(columns={'default payment next month': 'DEFAULT_NEXT_MONTH'}) "
   ]
  },
  {
   "cell_type": "markdown",
   "metadata": {},
   "source": [
    "#### Assign modeling roles"
   ]
  },
  {
   "cell_type": "code",
   "execution_count": 3,
   "metadata": {
    "collapsed": false
   },
   "outputs": [
    {
     "name": "stdout",
     "output_type": "stream",
     "text": [
      "y = DEFAULT_NEXT_MONTH\n",
      "X = ['LIMIT_BAL', 'SEX', 'EDUCATION', 'MARRIAGE', 'AGE', 'PAY_0', 'PAY_2', 'PAY_3', 'PAY_4', 'PAY_5', 'PAY_6', 'BILL_AMT1', 'BILL_AMT2', 'BILL_AMT3', 'BILL_AMT4', 'BILL_AMT5', 'BILL_AMT6', 'PAY_AMT1', 'PAY_AMT2', 'PAY_AMT3', 'PAY_AMT4', 'PAY_AMT5', 'PAY_AMT6']\n"
     ]
    }
   ],
   "source": [
    "# assign target and inputs for GBM\n",
    "y = 'DEFAULT_NEXT_MONTH'\n",
    "X = [name for name in data.columns if name not in [y, 'ID']]\n",
    "print('y =', y)\n",
    "print('X =', X)"
   ]
  },
  {
   "cell_type": "markdown",
   "metadata": {},
   "source": [
    "#### Split data into training and test sets for early stopping"
   ]
  },
  {
   "cell_type": "code",
   "execution_count": 4,
   "metadata": {
    "collapsed": false
   },
   "outputs": [
    {
     "name": "stdout",
     "output_type": "stream",
     "text": [
      "Train data rows = 20946, columns = 25\n",
      "Test data rows = 9054, columns = 25\n"
     ]
    }
   ],
   "source": [
    "np.random.seed(12345) # set random seed for reproducibility\n",
    "split_ratio = 0.7     # 70%/30% train/test split\n",
    "\n",
    "# execute split\n",
    "split = np.random.rand(len(data)) < split_ratio\n",
    "train = data[split]\n",
    "test = data[~split]\n",
    "\n",
    "# summarize split\n",
    "print('Train data rows = %d, columns = %d' % (train.shape[0], train.shape[1]))\n",
    "print('Test data rows = %d, columns = %d' % (test.shape[0], test.shape[1]))"
   ]
  },
  {
   "cell_type": "markdown",
   "metadata": {},
   "source": [
    "#### Train XGBoost GBM classifier"
   ]
  },
  {
   "cell_type": "code",
   "execution_count": 5,
   "metadata": {
    "collapsed": false
   },
   "outputs": [
    {
     "name": "stdout",
     "output_type": "stream",
     "text": [
      "[0]\ttrain-auc:0.867607\teval-auc:0.719086\n",
      "Multiple eval metrics have been passed: 'eval-auc' will be used for early stopping.\n",
      "\n",
      "Will train until eval-auc hasn't improved in 50 rounds.\n",
      "[1]\ttrain-auc:0.908766\teval-auc:0.743725\n",
      "[2]\ttrain-auc:0.920756\teval-auc:0.752839\n",
      "[3]\ttrain-auc:0.930517\teval-auc:0.756456\n",
      "[4]\ttrain-auc:0.937103\teval-auc:0.760017\n",
      "[5]\ttrain-auc:0.945061\teval-auc:0.76287\n",
      "[6]\ttrain-auc:0.950831\teval-auc:0.764268\n",
      "[7]\ttrain-auc:0.955773\teval-auc:0.764722\n",
      "[8]\ttrain-auc:0.95959\teval-auc:0.766275\n",
      "[9]\ttrain-auc:0.962581\teval-auc:0.766719\n",
      "[10]\ttrain-auc:0.966681\teval-auc:0.76766\n",
      "[11]\ttrain-auc:0.9689\teval-auc:0.767918\n",
      "[12]\ttrain-auc:0.971268\teval-auc:0.76883\n",
      "[13]\ttrain-auc:0.972708\teval-auc:0.768897\n",
      "[14]\ttrain-auc:0.974436\teval-auc:0.768584\n",
      "[15]\ttrain-auc:0.975561\teval-auc:0.768735\n",
      "[16]\ttrain-auc:0.977073\teval-auc:0.768516\n",
      "[17]\ttrain-auc:0.977979\teval-auc:0.769351\n",
      "[18]\ttrain-auc:0.979268\teval-auc:0.769351\n",
      "[19]\ttrain-auc:0.980756\teval-auc:0.770029\n",
      "[20]\ttrain-auc:0.982185\teval-auc:0.770277\n",
      "[21]\ttrain-auc:0.983333\teval-auc:0.77024\n",
      "[22]\ttrain-auc:0.983963\teval-auc:0.770619\n",
      "[23]\ttrain-auc:0.984856\teval-auc:0.770914\n",
      "[24]\ttrain-auc:0.985841\teval-auc:0.771831\n",
      "[25]\ttrain-auc:0.986943\teval-auc:0.77188\n",
      "[26]\ttrain-auc:0.988025\teval-auc:0.771866\n",
      "[27]\ttrain-auc:0.989244\teval-auc:0.77104\n",
      "[28]\ttrain-auc:0.989865\teval-auc:0.771227\n",
      "[29]\ttrain-auc:0.990334\teval-auc:0.771661\n",
      "[30]\ttrain-auc:0.990807\teval-auc:0.77214\n",
      "[31]\ttrain-auc:0.991471\teval-auc:0.772059\n",
      "[32]\ttrain-auc:0.992139\teval-auc:0.772069\n",
      "[33]\ttrain-auc:0.992869\teval-auc:0.771816\n",
      "[34]\ttrain-auc:0.993117\teval-auc:0.772134\n",
      "[35]\ttrain-auc:0.993464\teval-auc:0.772025\n",
      "[36]\ttrain-auc:0.993892\teval-auc:0.771776\n",
      "[37]\ttrain-auc:0.994339\teval-auc:0.77248\n",
      "[38]\ttrain-auc:0.994559\teval-auc:0.772556\n",
      "[39]\ttrain-auc:0.994826\teval-auc:0.772445\n",
      "[40]\ttrain-auc:0.994983\teval-auc:0.772732\n",
      "[41]\ttrain-auc:0.995142\teval-auc:0.772657\n",
      "[42]\ttrain-auc:0.995431\teval-auc:0.77309\n",
      "[43]\ttrain-auc:0.995698\teval-auc:0.773398\n",
      "[44]\ttrain-auc:0.995755\teval-auc:0.773398\n",
      "[45]\ttrain-auc:0.995902\teval-auc:0.773204\n",
      "[46]\ttrain-auc:0.996174\teval-auc:0.77308\n",
      "[47]\ttrain-auc:0.996286\teval-auc:0.7731\n",
      "[48]\ttrain-auc:0.99649\teval-auc:0.773316\n",
      "[49]\ttrain-auc:0.996613\teval-auc:0.773448\n",
      "[50]\ttrain-auc:0.996692\teval-auc:0.773504\n",
      "[51]\ttrain-auc:0.996848\teval-auc:0.773547\n",
      "[52]\ttrain-auc:0.996943\teval-auc:0.773537\n",
      "[53]\ttrain-auc:0.997114\teval-auc:0.773479\n",
      "[54]\ttrain-auc:0.997185\teval-auc:0.773534\n",
      "[55]\ttrain-auc:0.997285\teval-auc:0.773369\n",
      "[56]\ttrain-auc:0.997337\teval-auc:0.773413\n",
      "[57]\ttrain-auc:0.99749\teval-auc:0.773369\n",
      "[58]\ttrain-auc:0.997511\teval-auc:0.773389\n",
      "[59]\ttrain-auc:0.997523\teval-auc:0.773347\n",
      "[60]\ttrain-auc:0.99767\teval-auc:0.773145\n",
      "[61]\ttrain-auc:0.997742\teval-auc:0.773336\n",
      "[62]\ttrain-auc:0.997847\teval-auc:0.77342\n",
      "[63]\ttrain-auc:0.997905\teval-auc:0.773294\n",
      "[64]\ttrain-auc:0.997976\teval-auc:0.773389\n",
      "[65]\ttrain-auc:0.998005\teval-auc:0.773394\n",
      "[66]\ttrain-auc:0.99814\teval-auc:0.773411\n",
      "[67]\ttrain-auc:0.99818\teval-auc:0.773396\n",
      "[68]\ttrain-auc:0.998269\teval-auc:0.773552\n",
      "[69]\ttrain-auc:0.998305\teval-auc:0.773786\n",
      "[70]\ttrain-auc:0.99832\teval-auc:0.773734\n",
      "[71]\ttrain-auc:0.998362\teval-auc:0.773645\n",
      "[72]\ttrain-auc:0.998403\teval-auc:0.773392\n",
      "[73]\ttrain-auc:0.998436\teval-auc:0.773318\n",
      "[74]\ttrain-auc:0.998563\teval-auc:0.773026\n",
      "[75]\ttrain-auc:0.998611\teval-auc:0.773241\n",
      "[76]\ttrain-auc:0.998712\teval-auc:0.773104\n",
      "[77]\ttrain-auc:0.998721\teval-auc:0.773075\n",
      "[78]\ttrain-auc:0.998781\teval-auc:0.773086\n",
      "[79]\ttrain-auc:0.998855\teval-auc:0.773105\n",
      "[80]\ttrain-auc:0.998869\teval-auc:0.773108\n",
      "[81]\ttrain-auc:0.998908\teval-auc:0.772901\n",
      "[82]\ttrain-auc:0.998954\teval-auc:0.773051\n",
      "[83]\ttrain-auc:0.999003\teval-auc:0.772963\n",
      "[84]\ttrain-auc:0.999044\teval-auc:0.77273\n",
      "[85]\ttrain-auc:0.999057\teval-auc:0.772675\n",
      "[86]\ttrain-auc:0.999071\teval-auc:0.772654\n",
      "[87]\ttrain-auc:0.999122\teval-auc:0.772546\n",
      "[88]\ttrain-auc:0.999136\teval-auc:0.772657\n",
      "[89]\ttrain-auc:0.999147\teval-auc:0.772671\n",
      "[90]\ttrain-auc:0.999178\teval-auc:0.772608\n",
      "[91]\ttrain-auc:0.99919\teval-auc:0.772664\n",
      "[92]\ttrain-auc:0.999211\teval-auc:0.772536\n",
      "[93]\ttrain-auc:0.999228\teval-auc:0.772497\n",
      "[94]\ttrain-auc:0.999255\teval-auc:0.772452\n",
      "[95]\ttrain-auc:0.999276\teval-auc:0.772164\n",
      "[96]\ttrain-auc:0.999308\teval-auc:0.771839\n",
      "[97]\ttrain-auc:0.999345\teval-auc:0.771719\n",
      "[98]\ttrain-auc:0.999373\teval-auc:0.771685\n",
      "[99]\ttrain-auc:0.999405\teval-auc:0.771945\n",
      "[100]\ttrain-auc:0.999412\teval-auc:0.772017\n",
      "[101]\ttrain-auc:0.999418\teval-auc:0.771878\n",
      "[102]\ttrain-auc:0.999427\teval-auc:0.771764\n",
      "[103]\ttrain-auc:0.999463\teval-auc:0.771747\n",
      "[104]\ttrain-auc:0.999482\teval-auc:0.771815\n",
      "[105]\ttrain-auc:0.99952\teval-auc:0.771823\n",
      "[106]\ttrain-auc:0.999525\teval-auc:0.771855\n",
      "[107]\ttrain-auc:0.999558\teval-auc:0.771868\n",
      "[108]\ttrain-auc:0.999582\teval-auc:0.771846\n",
      "[109]\ttrain-auc:0.9996\teval-auc:0.771646\n",
      "[110]\ttrain-auc:0.999606\teval-auc:0.771595\n",
      "[111]\ttrain-auc:0.999611\teval-auc:0.771569\n",
      "[112]\ttrain-auc:0.999623\teval-auc:0.771424\n",
      "[113]\ttrain-auc:0.999633\teval-auc:0.771353\n",
      "[114]\ttrain-auc:0.999637\teval-auc:0.77132\n",
      "[115]\ttrain-auc:0.999642\teval-auc:0.771231\n",
      "[116]\ttrain-auc:0.999647\teval-auc:0.771339\n",
      "[117]\ttrain-auc:0.999655\teval-auc:0.771364\n",
      "[118]\ttrain-auc:0.999656\teval-auc:0.771418\n",
      "[119]\ttrain-auc:0.999663\teval-auc:0.771359\n",
      "Stopping. Best iteration:\n",
      "[69]\ttrain-auc:0.998305\teval-auc:0.773786\n",
      "\n"
     ]
    }
   ],
   "source": [
    "# XGBoost uses SVMLight data structure, not Numpy arrays or Pandas DataFrames \n",
    "dtrain = xgb.DMatrix(train[X], train[y])\n",
    "dtest = xgb.DMatrix(test[X], test[y])\n",
    "\n",
    "# used to calibrate predictions to mean of y \n",
    "base_y = train[y].mean()\n",
    "\n",
    "# tuning parameters\n",
    "params = {\n",
    "    'objective': 'binary:logistic',             # produces 0-1 probabilities for binary classification\n",
    "    'booster': 'gbtree',                        # base learner will be decision tree\n",
    "    'eval_metric': 'auc',                       # stop training based on maximum AUC, AUC always between 0-1\n",
    "    'eta': 0.08,                                # learning rate\n",
    "    'subsample': 0.9,                           # use 90% of rows in each decision tree\n",
    "    'colsample_bytree': 0.9,                    # use 90% of columns in each decision tree\n",
    "    'max_depth': 15,                            # allow decision trees to grow to depth of 15\n",
    "    'base_score': base_y,                       # calibrate predictions to mean of y \n",
    "    'seed': 12345                               # set random seed for reproducibility\n",
    "}\n",
    "\n",
    "# watchlist is used for early stopping\n",
    "watchlist = [(dtrain, 'train'), (dtest, 'eval')]\n",
    "\n",
    "# train model\n",
    "xgb_model = xgb.train(params,                   # set tuning parameters from above                   \n",
    "                      dtrain,                   # training data\n",
    "                      1000,                     # maximum of 1000 iterations (trees)\n",
    "                      evals=watchlist,          # use watchlist for early stopping \n",
    "                      early_stopping_rounds=50, # stop after 50 iterations (trees) without increase in AUC\n",
    "                      verbose_eval=True)        # display iteration progress\n"
   ]
  },
  {
   "cell_type": "markdown",
   "metadata": {},
   "source": [
    "####  Display variable importance"
   ]
  },
  {
   "cell_type": "code",
   "execution_count": 6,
   "metadata": {
    "collapsed": false
   },
   "outputs": [
    {
     "data": {
      "image/png": "[encoded data removed]",
      "text/plain": [
       "<matplotlib.figure.Figure at 0x11ab84d30>"
      ]
     },
     "metadata": {},
     "output_type": "display_data"
    }
   ],
   "source": [
    "# plot variable importance bar chart\n",
    "_ = xgb.plot_importance(xgb_model)"
   ]
  },
  {
   "cell_type": "markdown",
   "metadata": {},
   "source": [
    "#### Explain a prediction with LIME"
   ]
  },
  {
   "cell_type": "code",
   "execution_count": 7,
   "metadata": {
    "collapsed": false
   },
   "outputs": [
    {
     "name": "stdout",
     "output_type": "stream",
     "text": [
      "\n",
      "Local GLM R-square: 0.72\n",
      "        Input  Local Contribution\n",
      "0   LIMIT_BAL           -0.049329\n",
      "1         SEX           -0.045715\n",
      "2         AGE           -0.038814\n",
      "3   EDUCATION           -0.021997\n",
      "4    MARRIAGE           -0.014880\n",
      "5    PAY_AMT3           -0.002640\n",
      "6    PAY_AMT1           -0.002285\n",
      "7    PAY_AMT2           -0.001694\n",
      "8   BILL_AMT1           -0.001084\n",
      "9   BILL_AMT4           -0.000964\n",
      "10   PAY_AMT4           -0.000932\n",
      "11  BILL_AMT2           -0.000645\n",
      "12  BILL_AMT3           -0.000637\n",
      "13  BILL_AMT5           -0.000318\n",
      "14   PAY_AMT5           -0.000141\n",
      "15  BILL_AMT6           -0.000041\n",
      "16      PAY_3            0.010590\n",
      "17      PAY_6            0.010630\n",
      "18      PAY_2            0.010704\n",
      "19      PAY_4            0.010729\n",
      "20      PAY_5            0.010984\n",
      "21      PAY_0            0.012478\n"
     ]
    },
    {
     "data": {
      "image/png": "[encoded data removed]",
      "text/plain": [
       "<matplotlib.figure.Figure at 0x11af2c278>"
      ]
     },
     "metadata": {},
     "output_type": "display_data"
    }
   ],
   "source": [
    "row_id = 20\n",
    "explainer = LIMEExplainer(training_frame=test, X=X, model=xgb_model, discretize=False)\n",
    "explainer.explain(row_id)"
   ]
  }
 ],
 "metadata": {
  "anaconda-cloud": {},
  "kernelspec": {
   "display_name": "Python [conda root]",
   "language": "python",
   "name": "conda-root-py"
  },
  "language_info": {
   "codemirror_mode": {
    "name": "ipython",
    "version": 3
   },
   "file_extension": ".py",
   "mimetype": "text/x-python",
   "name": "python",
   "nbconvert_exporter": "python",
   "pygments_lexer": "ipython3",
   "version": "3.5.2"
  }
 },
 "nbformat": 4,
 "nbformat_minor": 2
}
