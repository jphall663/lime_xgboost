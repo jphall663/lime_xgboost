{
 "cells": [
  {
   "cell_type": "markdown",
   "metadata": {},
   "source": [
    "## License \n",
    "\n",
    "Copyright 2017 Patrick Hall (phall@h2o.ai) and the H2O.ai team\n",
    "\n",
    "Licensed under the Apache License, Version 2.0 (the \"License\");\n",
    "you may not use this file except in compliance with the License.\n",
    "You may obtain a copy of the License at\n",
    "\n",
    "    http://www.apache.org/licenses/LICENSE-2.0\n",
    "\n",
    "Unless required by applicable law or agreed to in writing, software\n",
    "distributed under the License is distributed on an \"AS IS\" BASIS,\n",
    "WITHOUT WARRANTIES OR CONDITIONS OF ANY KIND, either express or implied.\n",
    "See the License for the specific language governing permissions and\n",
    "limitations under the License."
   ]
  },
  {
   "cell_type": "markdown",
   "metadata": {},
   "source": [
    "#### Python imports "
   ]
  },
  {
   "cell_type": "code",
   "execution_count": 1,
   "metadata": {
    "collapsed": false
   },
   "outputs": [
    {
     "name": "stdout",
     "output_type": "stream",
     "text": [
      "Checking whether there is an H2O instance running at http://localhost:54321..... not found.\n",
      "Attempting to start a local H2O server...\n",
      "  Java Version: java version \"1.8.0_112\"; Java(TM) SE Runtime Environment (build 1.8.0_112-b16); Java HotSpot(TM) 64-Bit Server VM (build 25.112-b16, mixed mode)\n",
      "  Starting server from /Users/phall/anaconda/lib/python3.5/site-packages/h2o/backend/bin/h2o.jar\n",
      "  Ice root: /var/folders/tc/0ss1l73113j3wdyjsxmy1j2r0000gn/T/tmp71eb3l74\n",
      "  JVM stdout: /var/folders/tc/0ss1l73113j3wdyjsxmy1j2r0000gn/T/tmp71eb3l74/h2o_phall_started_from_python.out\n",
      "  JVM stderr: /var/folders/tc/0ss1l73113j3wdyjsxmy1j2r0000gn/T/tmp71eb3l74/h2o_phall_started_from_python.err\n",
      "  Server is running at http://127.0.0.1:54321\n",
      "Connecting to H2O server at http://127.0.0.1:54321... successful.\n"
     ]
    },
    {
     "data": {
      "text/html": [
       "<div style=\"overflow:auto\"><table style=\"width:50%\"><tr><td>H2O cluster uptime:</td>\n",
       "<td>02 secs</td></tr>\n",
       "<tr><td>H2O cluster version:</td>\n",
       "<td>3.16.0.4</td></tr>\n",
       "<tr><td>H2O cluster version age:</td>\n",
       "<td>3 months </td></tr>\n",
       "<tr><td>H2O cluster name:</td>\n",
       "<td>H2O_from_python_phall_dnzv33</td></tr>\n",
       "<tr><td>H2O cluster total nodes:</td>\n",
       "<td>1</td></tr>\n",
       "<tr><td>H2O cluster free memory:</td>\n",
       "<td>3.556 Gb</td></tr>\n",
       "<tr><td>H2O cluster total cores:</td>\n",
       "<td>8</td></tr>\n",
       "<tr><td>H2O cluster allowed cores:</td>\n",
       "<td>8</td></tr>\n",
       "<tr><td>H2O cluster status:</td>\n",
       "<td>accepting new members, healthy</td></tr>\n",
       "<tr><td>H2O connection url:</td>\n",
       "<td>http://127.0.0.1:54321</td></tr>\n",
       "<tr><td>H2O connection proxy:</td>\n",
       "<td>None</td></tr>\n",
       "<tr><td>H2O internal security:</td>\n",
       "<td>False</td></tr>\n",
       "<tr><td>H2O API Extensions:</td>\n",
       "<td>XGBoost, Algos, AutoML, Core V3, Core V4</td></tr>\n",
       "<tr><td>Python version:</td>\n",
       "<td>3.5.2 final</td></tr></table></div>"
      ],
      "text/plain": [
       "--------------------------  ----------------------------------------\n",
       "H2O cluster uptime:         02 secs\n",
       "H2O cluster version:        3.16.0.4\n",
       "H2O cluster version age:    3 months\n",
       "H2O cluster name:           H2O_from_python_phall_dnzv33\n",
       "H2O cluster total nodes:    1\n",
       "H2O cluster free memory:    3.556 Gb\n",
       "H2O cluster total cores:    8\n",
       "H2O cluster allowed cores:  8\n",
       "H2O cluster status:         accepting new members, healthy\n",
       "H2O connection url:         http://127.0.0.1:54321\n",
       "H2O connection proxy:\n",
       "H2O internal security:      False\n",
       "H2O API Extensions:         XGBoost, Algos, AutoML, Core V3, Core V4\n",
       "Python version:             3.5.2 final\n",
       "--------------------------  ----------------------------------------"
      ]
     },
     "metadata": {},
     "output_type": "display_data"
    }
   ],
   "source": [
    "import numpy as np                   # array, vector, matrix calculations\n",
    "import pandas as pd                  # DataFrame handling\n",
    "import xgboost as xgb                # gradient boosting machines (GBMs)\n",
    "\n",
    "import matplotlib.pyplot as plt      # plotting\n",
    "pd.options.display.max_columns = 999 # enable display of all columns in notebook\n",
    "\n",
    "# h2o\n",
    "import h2o\n",
    "h2o.init()\n",
    "\n",
    "# this LIME package\n",
    "from lime_xgboost import * \n",
    "\n",
    "# enables display of plots in notebook\n",
    "%matplotlib inline              "
   ]
  },
  {
   "cell_type": "markdown",
   "metadata": {},
   "source": [
    "#### Import data and clean"
   ]
  },
  {
   "cell_type": "code",
   "execution_count": 2,
   "metadata": {
    "collapsed": false
   },
   "outputs": [],
   "source": [
    "# import XLS file\n",
    "path = '../data/default_of_credit_card_clients.xls'\n",
    "data = pd.read_excel(path,\n",
    "                     skiprows=1) # skip the first row of the spreadsheet\n",
    "\n",
    "# remove spaces from target column name \n",
    "data = data.rename(columns={'default payment next month': 'DEFAULT_NEXT_MONTH'}) "
   ]
  },
  {
   "cell_type": "markdown",
   "metadata": {},
   "source": [
    "#### Assign modeling roles"
   ]
  },
  {
   "cell_type": "code",
   "execution_count": 3,
   "metadata": {
    "collapsed": false
   },
   "outputs": [
    {
     "name": "stdout",
     "output_type": "stream",
     "text": [
      "y = DEFAULT_NEXT_MONTH\n",
      "X = ['LIMIT_BAL', 'SEX', 'EDUCATION', 'MARRIAGE', 'AGE', 'PAY_0', 'PAY_2', 'PAY_3', 'PAY_4', 'PAY_5', 'PAY_6', 'BILL_AMT1', 'BILL_AMT2', 'BILL_AMT3', 'BILL_AMT4', 'BILL_AMT5', 'BILL_AMT6', 'PAY_AMT1', 'PAY_AMT2', 'PAY_AMT3', 'PAY_AMT4', 'PAY_AMT5', 'PAY_AMT6']\n"
     ]
    }
   ],
   "source": [
    "# assign target and inputs for GBM\n",
    "y = 'DEFAULT_NEXT_MONTH'\n",
    "X = [name for name in data.columns if name not in [y, 'ID']]\n",
    "print('y =', y)\n",
    "print('X =', X)"
   ]
  },
  {
   "cell_type": "markdown",
   "metadata": {},
   "source": [
    "#### Create monotone constraints for XGBoost"
   ]
  },
  {
   "cell_type": "code",
   "execution_count": 4,
   "metadata": {
    "collapsed": true
   },
   "outputs": [],
   "source": [
    "# creates a tuple in which positive correlation values are assigned a 1\n",
    "# and negative correlation values are assigned a -1\n",
    "mono_constraints = tuple([int(i) for i in np.sign(data[X + [y]].corr()[y].values[:-1])])"
   ]
  },
  {
   "cell_type": "markdown",
   "metadata": {},
   "source": [
    "#### Split data into training and test sets for early stopping"
   ]
  },
  {
   "cell_type": "code",
   "execution_count": 5,
   "metadata": {
    "collapsed": false
   },
   "outputs": [
    {
     "name": "stdout",
     "output_type": "stream",
     "text": [
      "Train data rows = 20946, columns = 25\n",
      "Test data rows = 9054, columns = 25\n"
     ]
    }
   ],
   "source": [
    "np.random.seed(12345) # set random seed for reproducibility\n",
    "split_ratio = 0.7     # 70%/30% train/test split\n",
    "\n",
    "# execute split\n",
    "split = np.random.rand(len(data)) < split_ratio\n",
    "train = data[split]\n",
    "test = data[~split]\n",
    "\n",
    "# summarize split\n",
    "print('Train data rows = %d, columns = %d' % (train.shape[0], train.shape[1]))\n",
    "print('Test data rows = %d, columns = %d' % (test.shape[0], test.shape[1]))"
   ]
  },
  {
   "cell_type": "markdown",
   "metadata": {},
   "source": [
    "#### Train XGBoost GBM classifier"
   ]
  },
  {
   "cell_type": "code",
   "execution_count": 6,
   "metadata": {
    "collapsed": false
   },
   "outputs": [
    {
     "name": "stdout",
     "output_type": "stream",
     "text": [
      "[0]\ttrain-auc:0.763478\teval-auc:0.765509\n",
      "Multiple eval metrics have been passed: 'eval-auc' will be used for early stopping.\n",
      "\n",
      "Will train until eval-auc hasn't improved in 50 rounds.\n",
      "[1]\ttrain-auc:0.771212\teval-auc:0.768848\n",
      "[2]\ttrain-auc:0.771411\teval-auc:0.767005\n",
      "[3]\ttrain-auc:0.77285\teval-auc:0.76901\n",
      "[4]\ttrain-auc:0.773584\teval-auc:0.769504\n",
      "[5]\ttrain-auc:0.775445\teval-auc:0.77169\n",
      "[6]\ttrain-auc:0.775442\teval-auc:0.771476\n",
      "[7]\ttrain-auc:0.775416\teval-auc:0.771288\n",
      "[8]\ttrain-auc:0.775419\teval-auc:0.771343\n",
      "[9]\ttrain-auc:0.776108\teval-auc:0.771897\n",
      "[10]\ttrain-auc:0.777171\teval-auc:0.772864\n",
      "[11]\ttrain-auc:0.77744\teval-auc:0.77342\n",
      "[12]\ttrain-auc:0.777984\teval-auc:0.773897\n",
      "[13]\ttrain-auc:0.77807\teval-auc:0.7739\n",
      "[14]\ttrain-auc:0.778602\teval-auc:0.774412\n",
      "[15]\ttrain-auc:0.77884\teval-auc:0.774702\n",
      "[16]\ttrain-auc:0.779087\teval-auc:0.774935\n",
      "[17]\ttrain-auc:0.779952\teval-auc:0.77544\n",
      "[18]\ttrain-auc:0.780322\teval-auc:0.775555\n",
      "[19]\ttrain-auc:0.780836\teval-auc:0.775873\n",
      "[20]\ttrain-auc:0.781414\teval-auc:0.776262\n",
      "[21]\ttrain-auc:0.781846\teval-auc:0.776611\n",
      "[22]\ttrain-auc:0.7821\teval-auc:0.776686\n",
      "[23]\ttrain-auc:0.782496\teval-auc:0.777071\n",
      "[24]\ttrain-auc:0.782856\teval-auc:0.777404\n",
      "[25]\ttrain-auc:0.783224\teval-auc:0.777747\n",
      "[26]\ttrain-auc:0.783762\teval-auc:0.778205\n",
      "[27]\ttrain-auc:0.784091\teval-auc:0.778535\n",
      "[28]\ttrain-auc:0.784481\teval-auc:0.778692\n",
      "[29]\ttrain-auc:0.784789\teval-auc:0.778747\n",
      "[30]\ttrain-auc:0.785071\teval-auc:0.778967\n",
      "[31]\ttrain-auc:0.785357\teval-auc:0.77912\n",
      "[32]\ttrain-auc:0.785536\teval-auc:0.77917\n",
      "[33]\ttrain-auc:0.785737\teval-auc:0.779354\n",
      "[34]\ttrain-auc:0.785918\teval-auc:0.779554\n",
      "[35]\ttrain-auc:0.786068\teval-auc:0.779685\n",
      "[36]\ttrain-auc:0.78641\teval-auc:0.779712\n",
      "[37]\ttrain-auc:0.786646\teval-auc:0.779849\n",
      "[38]\ttrain-auc:0.786761\teval-auc:0.779908\n",
      "[39]\ttrain-auc:0.786883\teval-auc:0.779944\n",
      "[40]\ttrain-auc:0.787024\teval-auc:0.779977\n",
      "[41]\ttrain-auc:0.787284\teval-auc:0.780031\n",
      "[42]\ttrain-auc:0.787474\teval-auc:0.780197\n",
      "[43]\ttrain-auc:0.787779\teval-auc:0.78027\n",
      "[44]\ttrain-auc:0.787964\teval-auc:0.780278\n",
      "[45]\ttrain-auc:0.788077\teval-auc:0.780344\n",
      "[46]\ttrain-auc:0.788273\teval-auc:0.780427\n",
      "[47]\ttrain-auc:0.788518\teval-auc:0.780419\n",
      "[48]\ttrain-auc:0.78861\teval-auc:0.78046\n",
      "[49]\ttrain-auc:0.788871\teval-auc:0.780561\n",
      "[50]\ttrain-auc:0.789024\teval-auc:0.780572\n",
      "[51]\ttrain-auc:0.789208\teval-auc:0.780669\n",
      "[52]\ttrain-auc:0.789436\teval-auc:0.78078\n",
      "[53]\ttrain-auc:0.789624\teval-auc:0.780864\n",
      "[54]\ttrain-auc:0.789711\teval-auc:0.780871\n",
      "[55]\ttrain-auc:0.789886\teval-auc:0.780965\n",
      "[56]\ttrain-auc:0.789951\teval-auc:0.781023\n",
      "[57]\ttrain-auc:0.79008\teval-auc:0.780972\n",
      "[58]\ttrain-auc:0.79021\teval-auc:0.781017\n",
      "[59]\ttrain-auc:0.790286\teval-auc:0.780985\n",
      "[60]\ttrain-auc:0.790403\teval-auc:0.780947\n",
      "[61]\ttrain-auc:0.790543\teval-auc:0.781004\n",
      "[62]\ttrain-auc:0.790614\teval-auc:0.781017\n",
      "[63]\ttrain-auc:0.790703\teval-auc:0.781051\n",
      "[64]\ttrain-auc:0.790801\teval-auc:0.781017\n",
      "[65]\ttrain-auc:0.790924\teval-auc:0.781113\n",
      "[66]\ttrain-auc:0.791063\teval-auc:0.781157\n",
      "[67]\ttrain-auc:0.791129\teval-auc:0.781221\n",
      "[68]\ttrain-auc:0.791321\teval-auc:0.781325\n",
      "[69]\ttrain-auc:0.7914\teval-auc:0.781254\n",
      "[70]\ttrain-auc:0.791524\teval-auc:0.78126\n",
      "[71]\ttrain-auc:0.791578\teval-auc:0.781305\n",
      "[72]\ttrain-auc:0.791644\teval-auc:0.78131\n",
      "[73]\ttrain-auc:0.791756\teval-auc:0.78134\n",
      "[74]\ttrain-auc:0.791868\teval-auc:0.781394\n",
      "[75]\ttrain-auc:0.791906\teval-auc:0.781442\n",
      "[76]\ttrain-auc:0.791955\teval-auc:0.781427\n",
      "[77]\ttrain-auc:0.791985\teval-auc:0.78143\n",
      "[78]\ttrain-auc:0.792032\teval-auc:0.78139\n",
      "[79]\ttrain-auc:0.792095\teval-auc:0.781399\n",
      "[80]\ttrain-auc:0.792175\teval-auc:0.781359\n",
      "[81]\ttrain-auc:0.792231\teval-auc:0.78138\n",
      "[82]\ttrain-auc:0.792293\teval-auc:0.781415\n",
      "[83]\ttrain-auc:0.792391\teval-auc:0.781409\n",
      "[84]\ttrain-auc:0.792458\teval-auc:0.781467\n",
      "[85]\ttrain-auc:0.792503\teval-auc:0.781448\n",
      "[86]\ttrain-auc:0.792544\teval-auc:0.781453\n",
      "[87]\ttrain-auc:0.7926\teval-auc:0.781455\n",
      "[88]\ttrain-auc:0.792618\teval-auc:0.781465\n",
      "[89]\ttrain-auc:0.79272\teval-auc:0.781474\n",
      "[90]\ttrain-auc:0.792879\teval-auc:0.781598\n",
      "[91]\ttrain-auc:0.792952\teval-auc:0.781597\n",
      "[92]\ttrain-auc:0.792985\teval-auc:0.781614\n",
      "[93]\ttrain-auc:0.793035\teval-auc:0.781668\n",
      "[94]\ttrain-auc:0.793054\teval-auc:0.781676\n",
      "[95]\ttrain-auc:0.793109\teval-auc:0.781679\n",
      "[96]\ttrain-auc:0.793131\teval-auc:0.781636\n",
      "[97]\ttrain-auc:0.793166\teval-auc:0.78162\n",
      "[98]\ttrain-auc:0.793181\teval-auc:0.781615\n",
      "[99]\ttrain-auc:0.793207\teval-auc:0.781602\n",
      "[100]\ttrain-auc:0.793227\teval-auc:0.781588\n",
      "[101]\ttrain-auc:0.793252\teval-auc:0.781591\n",
      "[102]\ttrain-auc:0.793266\teval-auc:0.781604\n",
      "[103]\ttrain-auc:0.793305\teval-auc:0.781585\n",
      "[104]\ttrain-auc:0.793431\teval-auc:0.781664\n",
      "[105]\ttrain-auc:0.793447\teval-auc:0.781632\n",
      "[106]\ttrain-auc:0.793468\teval-auc:0.781598\n",
      "[107]\ttrain-auc:0.793487\teval-auc:0.781598\n",
      "[108]\ttrain-auc:0.793549\teval-auc:0.781563\n",
      "[109]\ttrain-auc:0.793599\teval-auc:0.781603\n",
      "[110]\ttrain-auc:0.793649\teval-auc:0.781645\n",
      "[111]\ttrain-auc:0.793663\teval-auc:0.781632\n",
      "[112]\ttrain-auc:0.79369\teval-auc:0.781579\n",
      "[113]\ttrain-auc:0.793767\teval-auc:0.781627\n",
      "[114]\ttrain-auc:0.793817\teval-auc:0.781593\n",
      "[115]\ttrain-auc:0.793845\teval-auc:0.781596\n",
      "[116]\ttrain-auc:0.793872\teval-auc:0.78162\n",
      "[117]\ttrain-auc:0.793889\teval-auc:0.781627\n",
      "[118]\ttrain-auc:0.79392\teval-auc:0.781619\n",
      "[119]\ttrain-auc:0.793932\teval-auc:0.781606\n",
      "[120]\ttrain-auc:0.793947\teval-auc:0.781609\n",
      "[121]\ttrain-auc:0.793997\teval-auc:0.78164\n",
      "[122]\ttrain-auc:0.794015\teval-auc:0.781648\n",
      "[123]\ttrain-auc:0.794018\teval-auc:0.781649\n",
      "[124]\ttrain-auc:0.794046\teval-auc:0.781688\n",
      "[125]\ttrain-auc:0.794057\teval-auc:0.781663\n",
      "[126]\ttrain-auc:0.794067\teval-auc:0.781618\n",
      "[127]\ttrain-auc:0.794065\teval-auc:0.781614\n",
      "[128]\ttrain-auc:0.794096\teval-auc:0.781606\n",
      "[129]\ttrain-auc:0.794126\teval-auc:0.781582\n",
      "[130]\ttrain-auc:0.794142\teval-auc:0.78157\n",
      "[131]\ttrain-auc:0.794162\teval-auc:0.78158\n",
      "[132]\ttrain-auc:0.794165\teval-auc:0.78158\n",
      "[133]\ttrain-auc:0.794179\teval-auc:0.781583\n",
      "[134]\ttrain-auc:0.794188\teval-auc:0.781571\n",
      "[135]\ttrain-auc:0.794217\teval-auc:0.781564\n",
      "[136]\ttrain-auc:0.794242\teval-auc:0.781558\n",
      "[137]\ttrain-auc:0.794309\teval-auc:0.781598\n",
      "[138]\ttrain-auc:0.794311\teval-auc:0.781618\n",
      "[139]\ttrain-auc:0.794327\teval-auc:0.78162\n",
      "[140]\ttrain-auc:0.794361\teval-auc:0.78163\n",
      "[141]\ttrain-auc:0.794382\teval-auc:0.78161\n",
      "[142]\ttrain-auc:0.794445\teval-auc:0.781651\n",
      "[143]\ttrain-auc:0.794465\teval-auc:0.781653\n",
      "[144]\ttrain-auc:0.794466\teval-auc:0.78165\n",
      "[145]\ttrain-auc:0.794507\teval-auc:0.781613\n",
      "[146]\ttrain-auc:0.794511\teval-auc:0.781618\n",
      "[147]\ttrain-auc:0.794504\teval-auc:0.781612\n",
      "[148]\ttrain-auc:0.794519\teval-auc:0.781614\n",
      "[149]\ttrain-auc:0.79452\teval-auc:0.781613\n",
      "[150]\ttrain-auc:0.794527\teval-auc:0.781605\n",
      "[151]\ttrain-auc:0.79457\teval-auc:0.781559\n",
      "[152]\ttrain-auc:0.794613\teval-auc:0.781586\n",
      "[153]\ttrain-auc:0.794614\teval-auc:0.781586\n",
      "[154]\ttrain-auc:0.794618\teval-auc:0.781583\n",
      "[155]\ttrain-auc:0.794617\teval-auc:0.781582\n",
      "[156]\ttrain-auc:0.79469\teval-auc:0.781619\n",
      "[157]\ttrain-auc:0.794722\teval-auc:0.781646\n",
      "[158]\ttrain-auc:0.79475\teval-auc:0.78162\n",
      "[159]\ttrain-auc:0.794765\teval-auc:0.781589\n",
      "[160]\ttrain-auc:0.794832\teval-auc:0.781703\n",
      "[161]\ttrain-auc:0.794837\teval-auc:0.7817\n",
      "[162]\ttrain-auc:0.794846\teval-auc:0.781717\n",
      "[163]\ttrain-auc:0.794936\teval-auc:0.781762\n",
      "[164]\ttrain-auc:0.794942\teval-auc:0.78175\n",
      "[165]\ttrain-auc:0.794961\teval-auc:0.781725\n",
      "[166]\ttrain-auc:0.794961\teval-auc:0.781725\n",
      "[167]\ttrain-auc:0.794964\teval-auc:0.781717\n",
      "[168]\ttrain-auc:0.794963\teval-auc:0.781716\n",
      "[169]\ttrain-auc:0.794983\teval-auc:0.78172\n",
      "[170]\ttrain-auc:0.794984\teval-auc:0.78172\n",
      "[171]\ttrain-auc:0.794989\teval-auc:0.781721\n",
      "[172]\ttrain-auc:0.794989\teval-auc:0.781711\n",
      "[173]\ttrain-auc:0.794996\teval-auc:0.781712\n",
      "[174]\ttrain-auc:0.795\teval-auc:0.781719\n",
      "[175]\ttrain-auc:0.795001\teval-auc:0.781705\n",
      "[176]\ttrain-auc:0.795001\teval-auc:0.781705\n",
      "[177]\ttrain-auc:0.79501\teval-auc:0.781732\n",
      "[178]\ttrain-auc:0.795009\teval-auc:0.781731\n",
      "[179]\ttrain-auc:0.795011\teval-auc:0.781721\n",
      "[180]\ttrain-auc:0.795017\teval-auc:0.781716\n",
      "[181]\ttrain-auc:0.795058\teval-auc:0.7817\n",
      "[182]\ttrain-auc:0.795087\teval-auc:0.781662\n",
      "[183]\ttrain-auc:0.795087\teval-auc:0.781661\n",
      "[184]\ttrain-auc:0.795091\teval-auc:0.781648\n",
      "[185]\ttrain-auc:0.795129\teval-auc:0.781635\n",
      "[186]\ttrain-auc:0.795131\teval-auc:0.781634\n",
      "[187]\ttrain-auc:0.795138\teval-auc:0.781632\n",
      "[188]\ttrain-auc:0.795152\teval-auc:0.781623\n",
      "[189]\ttrain-auc:0.795153\teval-auc:0.781621\n",
      "[190]\ttrain-auc:0.795156\teval-auc:0.781606\n",
      "[191]\ttrain-auc:0.795156\teval-auc:0.781603\n",
      "[192]\ttrain-auc:0.79516\teval-auc:0.781627\n",
      "[193]\ttrain-auc:0.795161\teval-auc:0.781627\n",
      "[194]\ttrain-auc:0.795162\teval-auc:0.781624\n",
      "[195]\ttrain-auc:0.795166\teval-auc:0.781617\n",
      "[196]\ttrain-auc:0.795175\teval-auc:0.781586\n",
      "[197]\ttrain-auc:0.795174\teval-auc:0.781586\n",
      "[198]\ttrain-auc:0.795212\teval-auc:0.781627\n",
      "[199]\ttrain-auc:0.795217\teval-auc:0.781621\n",
      "[200]\ttrain-auc:0.79522\teval-auc:0.781618\n",
      "[201]\ttrain-auc:0.795219\teval-auc:0.781615\n",
      "[202]\ttrain-auc:0.795239\teval-auc:0.781628\n",
      "[203]\ttrain-auc:0.795257\teval-auc:0.781635\n",
      "[204]\ttrain-auc:0.795283\teval-auc:0.781627\n",
      "[205]\ttrain-auc:0.795283\teval-auc:0.781627\n",
      "[206]\ttrain-auc:0.79531\teval-auc:0.781628\n",
      "[207]\ttrain-auc:0.795309\teval-auc:0.781625\n",
      "[208]\ttrain-auc:0.795334\teval-auc:0.78159\n",
      "[209]\ttrain-auc:0.795335\teval-auc:0.781584\n",
      "[210]\ttrain-auc:0.795335\teval-auc:0.781579\n",
      "[211]\ttrain-auc:0.795335\teval-auc:0.781586\n",
      "[212]\ttrain-auc:0.795344\teval-auc:0.781589\n",
      "[213]\ttrain-auc:0.795343\teval-auc:0.781587\n",
      "Stopping. Best iteration:\n",
      "[163]\ttrain-auc:0.794936\teval-auc:0.781762\n",
      "\n"
     ]
    }
   ],
   "source": [
    "# XGBoost uses SVMLight data structure, not Numpy arrays or Pandas DataFrames \n",
    "dtrain = xgb.DMatrix(train[X], train[y])\n",
    "dtest = xgb.DMatrix(test[X], test[y])\n",
    "\n",
    "# used to calibrate predictions to mean of y \n",
    "base_y = train[y].mean()\n",
    "\n",
    "# tuning parameters\n",
    "params = {\n",
    "    'objective': 'binary:logistic',             # produces 0-1 probabilities for binary classification\n",
    "    'booster': 'gbtree',                        # base learner will be decision tree\n",
    "    'eval_metric': 'auc',                       # stop training based on maximum AUC, AUC always between 0-1\n",
    "    'eta': 0.08,                                # learning rate\n",
    "    'subsample': 0.9,                           # use 90% of rows in each decision tree\n",
    "    'colsample_bytree': 0.9,                    # use 90% of columns in each decision tree\n",
    "    'max_depth': 15,                            # allow decision trees to grow to depth of 15\n",
    "    'monotone_constraints':mono_constraints,    # 1 = increasing relationship, -1 = decreasing relationship\n",
    "    'base_score': base_y,                       # calibrate predictions to mean of y \n",
    "    'seed': 12345                               # set random seed for reproducibility\n",
    "}\n",
    "\n",
    "# watchlist is used for early stopping\n",
    "watchlist = [(dtrain, 'train'), (dtest, 'eval')]\n",
    "\n",
    "# train model\n",
    "xgb_model = xgb.train(params,                   # set tuning parameters from above                   \n",
    "                      dtrain,                   # training data\n",
    "                      1000,                     # maximum of 1000 iterations (trees)\n",
    "                      evals=watchlist,          # use watchlist for early stopping \n",
    "                      early_stopping_rounds=50, # stop after 50 iterations (trees) without increase in AUC\n",
    "                      verbose_eval=True)        # display iteration progress"
   ]
  },
  {
   "cell_type": "markdown",
   "metadata": {},
   "source": [
    "####  Display variable importance"
   ]
  },
  {
   "cell_type": "code",
   "execution_count": 7,
   "metadata": {
    "collapsed": false
   },
   "outputs": [
    {
     "data": {
      "image/png": "[encoded data removed]",
      "text/plain": [
       "<matplotlib.figure.Figure at 0x1183b0ef0>"
      ]
     },
     "metadata": {},
     "output_type": "display_data"
    }
   ],
   "source": [
    "# plot variable importance bar chart\n",
    "_ = xgb.plot_importance(xgb_model)"
   ]
  },
  {
   "cell_type": "markdown",
   "metadata": {},
   "source": [
    "#### Explain a prediction with LIME (several example argument combos)"
   ]
  },
  {
   "cell_type": "code",
   "execution_count": 8,
   "metadata": {
    "collapsed": false
   },
   "outputs": [
    {
     "name": "stdout",
     "output_type": "stream",
     "text": [
      "\n",
      "Model Prediction: 0.92\n",
      "Local GLM Prediction: 0.89\n",
      "Local GLM R-square: 0.82\n",
      "Local GLM Intercept: 1.05\n",
      "\n",
      "Approximate Local Contributions:\n",
      "        Input  Local Contribution\n",
      "0         SEX           -0.037843\n",
      "1         AGE           -0.032428\n",
      "2   EDUCATION           -0.016780\n",
      "3       PAY_6           -0.012515\n",
      "4       PAY_0           -0.011938\n",
      "5    MARRIAGE           -0.010901\n",
      "6       PAY_3           -0.010043\n",
      "7       PAY_2           -0.006969\n",
      "8       PAY_5           -0.006473\n",
      "9       PAY_4           -0.006467\n",
      "10  LIMIT_BAL           -0.002987\n",
      "11  BILL_AMT5           -0.000691\n",
      "12  BILL_AMT6           -0.000633\n",
      "13  BILL_AMT4           -0.000584\n",
      "14  BILL_AMT2           -0.000556\n",
      "15   PAY_AMT1           -0.000537\n",
      "16  BILL_AMT3           -0.000521\n",
      "17  BILL_AMT1           -0.000429\n",
      "18   PAY_AMT4           -0.000350\n",
      "19   PAY_AMT3           -0.000168\n",
      "None\n"
     ]
    },
    {
     "data": {
      "image/png": "[encoded data removed]",
      "text/plain": [
       "<matplotlib.figure.Figure at 0x11b9ce240>"
      ]
     },
     "metadata": {},
     "output_type": "display_data"
    }
   ],
   "source": [
    "row_id = 20317\n",
    "explainer = LIMEExplainer(training_frame=train, X=X, model=xgb_model, discretize=None)\n",
    "explainer.explain(row_id)"
   ]
  },
  {
   "cell_type": "code",
   "execution_count": 9,
   "metadata": {
    "collapsed": false
   },
   "outputs": [
    {
     "name": "stdout",
     "output_type": "stream",
     "text": [
      "\n",
      "Model Prediction: 0.92\n",
      "Local GLM Prediction: 0.86\n",
      "Local GLM R-square: 0.95\n",
      "Local GLM Intercept: 0.92\n",
      "\n",
      "Approximate Local Contributions:\n",
      "                   Input  Local Contribution\n",
      "0   AGE.(58.903, 65.149]           -0.016889\n",
      "1                  PAY_6           -0.016519\n",
      "2                  PAY_4           -0.009900\n",
      "3                  PAY_5           -0.009267\n",
      "4   PAY_0.(2.988, 3.751]           -0.003934\n",
      "5                  PAY_3           -0.003136\n",
      "6   PAY_2.(1.987, 2.796]           -0.000780\n",
      "7              BILL_AMT5           -0.000749\n",
      "8              BILL_AMT6           -0.000710\n",
      "9              BILL_AMT2           -0.000679\n",
      "10             BILL_AMT4           -0.000652\n",
      "11              PAY_AMT1           -0.000614\n",
      "12             BILL_AMT3           -0.000592\n",
      "13             BILL_AMT1           -0.000550\n",
      "14              PAY_AMT4           -0.000410\n",
      "15              PAY_AMT3           -0.000205\n",
      "None\n"
     ]
    },
    {
     "data": {
      "image/png": "[encoded data removed]",
      "text/plain": [
       "<matplotlib.figure.Figure at 0x11bd19208>"
      ]
     },
     "metadata": {},
     "output_type": "display_data"
    }
   ],
   "source": [
    "row_id = 20317\n",
    "explainer = LIMEExplainer(training_frame=train, X=X, model=xgb_model, discretize=['PAY_0', 'PAY_2', 'AGE'])\n",
    "explainer.explain(row_id)"
   ]
  }
 ],
 "metadata": {
  "anaconda-cloud": {},
  "kernelspec": {
   "display_name": "Python [conda root]",
   "language": "python",
   "name": "conda-root-py"
  },
  "language_info": {
   "codemirror_mode": {
    "name": "ipython",
    "version": 3
   },
   "file_extension": ".py",
   "mimetype": "text/x-python",
   "name": "python",
   "nbconvert_exporter": "python",
   "pygments_lexer": "ipython3",
   "version": "3.5.2"
  }
 },
 "nbformat": 4,
 "nbformat_minor": 2
}
